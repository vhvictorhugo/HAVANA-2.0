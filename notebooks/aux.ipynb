{
 "cells": [
  {
   "cell_type": "code",
   "execution_count": 1,
   "metadata": {},
   "outputs": [],
   "source": [
    "import polars as pl"
   ]
  },
  {
   "cell_type": "code",
   "execution_count": 2,
   "metadata": {},
   "outputs": [],
   "source": [
    "florida = pl.read_csv(\n",
    "    '/home/victor-hugo/HAVANA-2.0/data/intermediate/checkins/Florida.csv'\n",
    ")"
   ]
  },
  {
   "cell_type": "code",
   "execution_count": null,
   "metadata": {},
   "outputs": [],
   "source": []
  },
  {
   "cell_type": "code",
   "execution_count": 13,
   "metadata": {},
   "outputs": [],
   "source": [
    "(\n",
    "    pl.read_csv(\n",
    "        '/home/victor-hugo/HAVANA-2.0/data/intermediate/region_embeddings/hex2vec/Texas/64_dimension_7_resolution.csv',\n",
    "        use_pyarrow=True\n",
    "    )\n",
    "    .write_parquet(\n",
    "        '/home/victor-hugo/HAVANA-2.0/data/intermediate/region_embeddings/hex2vec/Texas/64_dimension_7_resolution.parquet',\n",
    "        use_pyarrow=True\n",
    "    )\n",
    ")"
   ]
  },
  {
   "cell_type": "code",
   "execution_count": 24,
   "metadata": {},
   "outputs": [],
   "source": [
    "def get_statistics(df_path: str, df_name: str) -> None:\n",
    "    df = pl.read_csv(df_path).unique()\n",
    "    \n",
    "    n_unique_users = (\n",
    "        df\n",
    "        .select(\"userid\")\n",
    "        .unique()\n",
    "        .shape[0]\n",
    "    )\n",
    "    median_checkins_per_user = (\n",
    "        df\n",
    "        .group_by(\"userid\")\n",
    "        .agg(pl.len().alias(\"qt_checkins\"))\n",
    "        .select(\"qt_checkins\")\n",
    "        .median()\n",
    "        .item()\n",
    "    )\n",
    "    number_pois = (\n",
    "        df\n",
    "        .select(\"placeid\")\n",
    "        .unique()\n",
    "        .shape[0]\n",
    "    )\n",
    "    \n",
    "    print(f\"Statistics for {df_name}\")\n",
    "    print(f\"Number of check-ins: {df.shape[0]}\")\n",
    "    print(f\"Number of unique users: {n_unique_users}\")\n",
    "    print(f\"Number of unique POIs: {number_pois}\")\n",
    "    print(f\"Median number of check-ins per user: {median_checkins_per_user}\")"
   ]
  },
  {
   "cell_type": "markdown",
   "metadata": {},
   "source": [
    "# Texas"
   ]
  },
  {
   "cell_type": "code",
   "execution_count": 26,
   "metadata": {},
   "outputs": [
    {
     "name": "stdout",
     "output_type": "stream",
     "text": [
      "Statistics for Texas Reduced\n",
      "Number of check-ins: 166065\n",
      "Number of unique users: 550\n",
      "Number of unique POIs: 56716\n",
      "Median number of check-ins per user: 21.5\n"
     ]
    }
   ],
   "source": [
    "get_statistics(\n",
    "    df_path='/home/victor-hugo/HAVANA-2.0/data/raw/checkins_local/checkins_local_Texas.csv',\n",
    "    df_name='Texas Reduced'\n",
    ")"
   ]
  },
  {
   "cell_type": "code",
   "execution_count": 27,
   "metadata": {},
   "outputs": [
    {
     "name": "stdout",
     "output_type": "stream",
     "text": [
      "Statistics for Texas Big Data\n",
      "Number of check-ins: 3351025\n",
      "Number of unique users: 37522\n",
      "Number of unique POIs: 135570\n",
      "Median number of check-ins per user: 13.0\n"
     ]
    }
   ],
   "source": [
    "get_statistics(\n",
    "    df_path='/home/victor-hugo/HAVANA-2.0/data/raw/checkins_separated_categories/checkins_Texas.csv',\n",
    "    df_name='Texas Big Data'\n",
    ")"
   ]
  },
  {
   "cell_type": "code",
   "execution_count": 28,
   "metadata": {},
   "outputs": [
    {
     "name": "stdout",
     "output_type": "stream",
     "text": [
      "Statistics for Texas Filtered\n",
      "Number of check-ins: 3345090\n",
      "Number of unique users: 32323\n",
      "Number of unique POIs: 135469\n",
      "Median number of check-ins per user: 19.0\n"
     ]
    }
   ],
   "source": [
    "get_statistics(\n",
    "    df_path='/home/victor-hugo/HAVANA-2.0/data/intermediate/checkins/Texas.csv',\n",
    "    df_name='Texas Filtered'\n",
    ")"
   ]
  },
  {
   "cell_type": "code",
   "execution_count": 37,
   "metadata": {},
   "outputs": [
    {
     "name": "stdout",
     "output_type": "stream",
     "text": [
      "Statistics for Texas Artigo\n",
      "Number of check-ins: 3057075\n",
      "Number of unique users: 19219\n",
      "Number of unique POIs: 71575\n",
      "Median number of check-ins per user: 49.0\n"
     ]
    }
   ],
   "source": [
    "get_statistics(\n",
    "    df_path='/home/victor-hugo/HAVANA-2.0/texas_checkin_cleaned.csv',\n",
    "    df_name='Texas Artigo'\n",
    ")"
   ]
  },
  {
   "cell_type": "markdown",
   "metadata": {},
   "source": [
    "# Florida"
   ]
  },
  {
   "cell_type": "code",
   "execution_count": 29,
   "metadata": {},
   "outputs": [
    {
     "name": "stdout",
     "output_type": "stream",
     "text": [
      "Statistics for Florida Reduced\n",
      "Number of check-ins: 12297\n",
      "Number of unique users: 323\n",
      "Number of unique POIs: 5097\n",
      "Median number of check-ins per user: 8.0\n"
     ]
    }
   ],
   "source": [
    "get_statistics(\n",
    "    df_path='/home/victor-hugo/HAVANA-2.0/data/raw/checkins_local/checkins_local_Florida.csv',\n",
    "    df_name='Florida Reduced'\n",
    ")"
   ]
  },
  {
   "cell_type": "code",
   "execution_count": 30,
   "metadata": {},
   "outputs": [
    {
     "name": "stdout",
     "output_type": "stream",
     "text": [
      "Statistics for Florida Big Data\n",
      "Number of check-ins: 989677\n",
      "Number of unique users: 20301\n",
      "Number of unique POIs: 65009\n",
      "Median number of check-ins per user: 7.0\n"
     ]
    }
   ],
   "source": [
    "get_statistics(\n",
    "    df_path='/home/victor-hugo/HAVANA-2.0/data/raw/checkins_separated_categories/checkins_Florida.csv',\n",
    "    df_name='Florida Big Data'\n",
    ")"
   ]
  },
  {
   "cell_type": "code",
   "execution_count": 31,
   "metadata": {},
   "outputs": [
    {
     "name": "stdout",
     "output_type": "stream",
     "text": [
      "Statistics for Florida Filtered\n",
      "Number of check-ins: 985739\n",
      "Number of unique users: 16839\n",
      "Number of unique POIs: 64946\n",
      "Median number of check-ins per user: 11.0\n"
     ]
    }
   ],
   "source": [
    "get_statistics(\n",
    "    df_path='/home/victor-hugo/HAVANA-2.0/data/intermediate/checkins/Florida.csv',\n",
    "    df_name='Florida Filtered'\n",
    ")"
   ]
  },
  {
   "cell_type": "code",
   "execution_count": 32,
   "metadata": {},
   "outputs": [
    {
     "name": "stdout",
     "output_type": "stream",
     "text": [
      "Statistics for Florida Artigo\n",
      "Number of check-ins: 859201\n",
      "Number of unique users: 10036\n",
      "Number of unique POIs: 31640\n",
      "Median number of check-ins per user: 23.0\n"
     ]
    }
   ],
   "source": [
    "get_statistics(\n",
    "    df_path='/home/victor-hugo/HAVANA-2.0/florida_checkin_cleaned.csv',\n",
    "    df_name='Florida Artigo'\n",
    ")"
   ]
  },
  {
   "cell_type": "markdown",
   "metadata": {},
   "source": [
    "# California"
   ]
  },
  {
   "cell_type": "code",
   "execution_count": 33,
   "metadata": {},
   "outputs": [
    {
     "name": "stdout",
     "output_type": "stream",
     "text": [
      "Statistics for California Reduced\n",
      "Number of check-ins: 103257\n",
      "Number of unique users: 664\n",
      "Number of unique POIs: 34772\n",
      "Median number of check-ins per user: 19.0\n"
     ]
    }
   ],
   "source": [
    "get_statistics(\n",
    "    df_path='/home/victor-hugo/HAVANA-2.0/data/raw/checkins_local/checkins_local_California.csv',\n",
    "    df_name='California Reduced'\n",
    ")"
   ]
  },
  {
   "cell_type": "code",
   "execution_count": 34,
   "metadata": {},
   "outputs": [
    {
     "name": "stdout",
     "output_type": "stream",
     "text": [
      "Statistics for California Big Data\n",
      "Number of check-ins: 2534352\n",
      "Number of unique users: 36106\n",
      "Number of unique POIs: 148314\n",
      "Median number of check-ins per user: 11.0\n"
     ]
    }
   ],
   "source": [
    "get_statistics(\n",
    "    df_path='/home/victor-hugo/HAVANA-2.0/data/raw/checkins_separated_categories/checkins_California.csv',\n",
    "    df_name='California Big Data'\n",
    ")"
   ]
  },
  {
   "cell_type": "code",
   "execution_count": 35,
   "metadata": {},
   "outputs": [
    {
     "name": "stdout",
     "output_type": "stream",
     "text": [
      "Statistics for California Filtered\n",
      "Number of check-ins: 2528690\n",
      "Number of unique users: 30959\n",
      "Number of unique POIs: 148199\n",
      "Median number of check-ins per user: 15.0\n"
     ]
    }
   ],
   "source": [
    "get_statistics(\n",
    "    df_path='/home/victor-hugo/HAVANA-2.0/data/intermediate/checkins/California.csv',\n",
    "    df_name='California Filtered'\n",
    ")"
   ]
  },
  {
   "cell_type": "code",
   "execution_count": 36,
   "metadata": {},
   "outputs": [
    {
     "name": "stdout",
     "output_type": "stream",
     "text": [
      "Statistics for California Artigo\n",
      "Number of check-ins: 2247965\n",
      "Number of unique users: 18083\n",
      "Number of unique POIs: 76134\n",
      "Median number of check-ins per user: 36.0\n"
     ]
    }
   ],
   "source": [
    "get_statistics(\n",
    "    df_path='/home/victor-hugo/HAVANA-2.0/california_checkin_cleaned.csv',\n",
    "    df_name='California Artigo'\n",
    ")"
   ]
  }
 ],
 "metadata": {
  "kernelspec": {
   "display_name": "Python 3",
   "language": "python",
   "name": "python3"
  },
  "language_info": {
   "codemirror_mode": {
    "name": "ipython",
    "version": 3
   },
   "file_extension": ".py",
   "mimetype": "text/x-python",
   "name": "python",
   "nbconvert_exporter": "python",
   "pygments_lexer": "ipython3",
   "version": "3.10.14"
  }
 },
 "nbformat": 4,
 "nbformat_minor": 2
}
