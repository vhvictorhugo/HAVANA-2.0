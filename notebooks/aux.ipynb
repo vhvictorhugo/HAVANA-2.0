{
 "cells": [
  {
   "cell_type": "code",
   "execution_count": 2,
   "metadata": {},
   "outputs": [],
   "source": [
    "import polars as pl\n",
    "import pandas as pd\n",
    "import numpy as np"
   ]
  },
  {
   "cell_type": "code",
   "execution_count": 8,
   "metadata": {},
   "outputs": [],
   "source": [
    "pois_df = pd.read_csv(\n",
    "    '/home/victor-hugo/Documentos/poi-encoder/region-embedding-benchmark/region-embedding/data/texas_region.csv'\n",
    ")"
   ]
  },
  {
   "cell_type": "code",
   "execution_count": 9,
   "metadata": {},
   "outputs": [
    {
     "data": {
      "text/html": [
       "<div>\n",
       "<style scoped>\n",
       "    .dataframe tbody tr th:only-of-type {\n",
       "        vertical-align: middle;\n",
       "    }\n",
       "\n",
       "    .dataframe tbody tr th {\n",
       "        vertical-align: top;\n",
       "    }\n",
       "\n",
       "    .dataframe thead th {\n",
       "        text-align: right;\n",
       "    }\n",
       "</style>\n",
       "<table border=\"1\" class=\"dataframe\">\n",
       "  <thead>\n",
       "    <tr style=\"text-align: right;\">\n",
       "      <th></th>\n",
       "      <th>geometry</th>\n",
       "      <th>bbox_north</th>\n",
       "      <th>bbox_south</th>\n",
       "      <th>bbox_east</th>\n",
       "      <th>bbox_west</th>\n",
       "      <th>place_id</th>\n",
       "      <th>osm_type</th>\n",
       "      <th>osm_id</th>\n",
       "      <th>lat</th>\n",
       "      <th>lon</th>\n",
       "      <th>class</th>\n",
       "      <th>type</th>\n",
       "      <th>place_rank</th>\n",
       "      <th>importance</th>\n",
       "      <th>addresstype</th>\n",
       "      <th>name</th>\n",
       "      <th>display_name</th>\n",
       "    </tr>\n",
       "  </thead>\n",
       "  <tbody>\n",
       "    <tr>\n",
       "      <th>0</th>\n",
       "      <td>POLYGON ((-106.6458459 31.8952738, -106.643089...</td>\n",
       "      <td>36.500453</td>\n",
       "      <td>25.83706</td>\n",
       "      <td>-93.507822</td>\n",
       "      <td>-106.645846</td>\n",
       "      <td>304554548</td>\n",
       "      <td>relation</td>\n",
       "      <td>114690</td>\n",
       "      <td>31.26389</td>\n",
       "      <td>-98.545612</td>\n",
       "      <td>boundary</td>\n",
       "      <td>administrative</td>\n",
       "      <td>8</td>\n",
       "      <td>0.758052</td>\n",
       "      <td>state</td>\n",
       "      <td>Texas</td>\n",
       "      <td>Texas, United States</td>\n",
       "    </tr>\n",
       "  </tbody>\n",
       "</table>\n",
       "</div>"
      ],
      "text/plain": [
       "                                            geometry  bbox_north  bbox_south  \\\n",
       "0  POLYGON ((-106.6458459 31.8952738, -106.643089...   36.500453    25.83706   \n",
       "\n",
       "   bbox_east   bbox_west   place_id  osm_type  osm_id       lat        lon  \\\n",
       "0 -93.507822 -106.645846  304554548  relation  114690  31.26389 -98.545612   \n",
       "\n",
       "      class            type  place_rank  importance addresstype   name  \\\n",
       "0  boundary  administrative           8    0.758052       state  Texas   \n",
       "\n",
       "           display_name  \n",
       "0  Texas, United States  "
      ]
     },
     "execution_count": 9,
     "metadata": {},
     "output_type": "execute_result"
    }
   ],
   "source": [
    "pois_df"
   ]
  },
  {
   "cell_type": "code",
   "execution_count": 3,
   "metadata": {},
   "outputs": [
    {
     "data": {
      "text/html": [
       "<div><style>\n",
       ".dataframe > thead > tr,\n",
       ".dataframe > tbody > tr {\n",
       "  text-align: right;\n",
       "  white-space: pre-wrap;\n",
       "}\n",
       "</style>\n",
       "<small>shape: (61_594, 65)</small><table border=\"1\" class=\"dataframe\"><thead><tr><th>region_id</th><th>0</th><th>1</th><th>2</th><th>3</th><th>4</th><th>5</th><th>6</th><th>7</th><th>8</th><th>9</th><th>10</th><th>11</th><th>12</th><th>13</th><th>14</th><th>15</th><th>16</th><th>17</th><th>18</th><th>19</th><th>20</th><th>21</th><th>22</th><th>23</th><th>24</th><th>25</th><th>26</th><th>27</th><th>28</th><th>29</th><th>30</th><th>31</th><th>32</th><th>33</th><th>34</th><th>35</th><th>36</th><th>37</th><th>38</th><th>39</th><th>40</th><th>41</th><th>42</th><th>43</th><th>44</th><th>45</th><th>46</th><th>47</th><th>48</th><th>49</th><th>50</th><th>51</th><th>52</th><th>53</th><th>54</th><th>55</th><th>56</th><th>57</th><th>58</th><th>59</th><th>60</th><th>61</th><th>62</th><th>63</th></tr><tr><td>str</td><td>f64</td><td>f64</td><td>f64</td><td>f64</td><td>f64</td><td>f64</td><td>f64</td><td>f64</td><td>f64</td><td>f64</td><td>f64</td><td>f64</td><td>f64</td><td>f64</td><td>f64</td><td>f64</td><td>f64</td><td>f64</td><td>f64</td><td>f64</td><td>f64</td><td>f64</td><td>f64</td><td>f64</td><td>f64</td><td>f64</td><td>f64</td><td>f64</td><td>f64</td><td>f64</td><td>f64</td><td>f64</td><td>f64</td><td>f64</td><td>f64</td><td>f64</td><td>f64</td><td>f64</td><td>f64</td><td>f64</td><td>f64</td><td>f64</td><td>f64</td><td>f64</td><td>f64</td><td>f64</td><td>f64</td><td>f64</td><td>f64</td><td>f64</td><td>f64</td><td>f64</td><td>f64</td><td>f64</td><td>f64</td><td>f64</td><td>f64</td><td>f64</td><td>f64</td><td>f64</td><td>f64</td><td>f64</td><td>f64</td><td>f64</td></tr></thead><tbody><tr><td>&quot;892aa6c9ccffff…</td><td>-0.128</td><td>0.3003197</td><td>-0.688874</td><td>-0.734804</td><td>0.589815</td><td>-0.605765</td><td>-0.143546</td><td>-0.461594</td><td>0.509823</td><td>-1.566598</td><td>0.2543262</td><td>-0.901903</td><td>-0.291522</td><td>0.8699549</td><td>0.112809</td><td>-0.691258</td><td>-0.774397</td><td>-0.177467</td><td>0.980917</td><td>-0.838825</td><td>0.02022</td><td>1.2038093</td><td>-0.864437</td><td>-1.461574</td><td>1.4408911</td><td>-0.0733</td><td>-0.771382</td><td>0.04404</td><td>1.4315604</td><td>1.4263169</td><td>0.079819</td><td>-0.401994</td><td>0.097026</td><td>-1.942936</td><td>-0.162217</td><td>0.104311</td><td>-0.929586</td><td>-2.503535</td><td>-0.501066</td><td>0.6267358</td><td>1.2749962</td><td>-0.456266</td><td>0.11701</td><td>0.013824</td><td>0.221065</td><td>0.305584</td><td>-0.274242</td><td>-2.055419</td><td>-1.432265</td><td>1.1017566</td><td>-1.262538</td><td>0.061263</td><td>1.7528903</td><td>-0.110242</td><td>0.189433</td><td>-0.706612</td><td>-0.193102</td><td>1.0746613</td><td>1.2783487</td><td>0.020933</td><td>0.246762</td><td>-0.284756</td><td>-0.151049</td><td>0.138649</td></tr><tr><td>&quot;892b8902907fff…</td><td>0.5188687</td><td>0.135584</td><td>-0.046896</td><td>-0.178786</td><td>0.502898</td><td>-0.062804</td><td>0.051463</td><td>0.756886</td><td>0.2605908</td><td>-0.679638</td><td>0.089796</td><td>-0.064222</td><td>0.6499489</td><td>1.1664572</td><td>0.8082694</td><td>-0.454006</td><td>-0.483773</td><td>-0.284528</td><td>0.9221753</td><td>0.276004</td><td>0.388236</td><td>-0.721958</td><td>0.033389</td><td>-0.346677</td><td>0.5656048</td><td>0.28808</td><td>-1.14363</td><td>-0.835987</td><td>0.972404</td><td>1.3944241</td><td>-0.962873</td><td>-0.628138</td><td>0.35221</td><td>-1.059721</td><td>-0.463137</td><td>-1.107125</td><td>-0.016673</td><td>-0.67103</td><td>-0.399301</td><td>0.372973</td><td>0.9520231</td><td>-0.429125</td><td>-0.286796</td><td>0.248908</td><td>-1.264396</td><td>0.5621711</td><td>-0.970215</td><td>-0.060982</td><td>-0.980906</td><td>1.0105271</td><td>-0.672511</td><td>-0.642302</td><td>1.1903628</td><td>-1.027503</td><td>0.038039</td><td>-0.075072</td><td>-0.000109</td><td>0.3261529</td><td>0.953666</td><td>0.6763143</td><td>0.964356</td><td>0.725145</td><td>-0.154589</td><td>1.0486878</td></tr><tr><td>&quot;892b890292ffff…</td><td>-0.341131</td><td>0.1870089</td><td>-0.563597</td><td>-0.00081</td><td>0.604157</td><td>0.298</td><td>0.170845</td><td>0.788267</td><td>0.244839</td><td>-0.812701</td><td>-0.076175</td><td>0.312705</td><td>0.404737</td><td>0.825682</td><td>0.7408969</td><td>-0.560885</td><td>-0.199939</td><td>-1.006817</td><td>0.5390914</td><td>0.305026</td><td>0.2525612</td><td>-1.475629</td><td>-0.225305</td><td>0.124805</td><td>0.7912809</td><td>0.6819189</td><td>-1.868927</td><td>-1.020531</td><td>0.8757779</td><td>1.6183761</td><td>-0.510686</td><td>-0.900965</td><td>0.356831</td><td>-0.836476</td><td>-0.994621</td><td>-0.830564</td><td>0.411033</td><td>-0.334844</td><td>0.33723</td><td>0.615994</td><td>1.0587416</td><td>-0.318412</td><td>-0.418095</td><td>-0.010475</td><td>-1.752368</td><td>0.140621</td><td>-1.191528</td><td>0.359114</td><td>-1.136737</td><td>1.2975394</td><td>-0.651776</td><td>-1.273565</td><td>1.6505264</td><td>-0.525435</td><td>0.356259</td><td>0.186178</td><td>-0.239156</td><td>0.799456</td><td>0.815207</td><td>0.445554</td><td>1.1787078</td><td>0.5352678</td><td>0.1763524</td><td>1.0594836</td></tr><tr><td>&quot;892b8902923fff…</td><td>0.421253</td><td>0.2792997</td><td>0.322675</td><td>-0.220699</td><td>0.9411543</td><td>0.07841</td><td>-0.267293</td><td>0.222945</td><td>0.114931</td><td>-0.545022</td><td>0.159033</td><td>0.002156</td><td>0.2911153</td><td>1.2524079</td><td>0.7649442</td><td>-0.713534</td><td>-0.270426</td><td>-0.634979</td><td>0.606447</td><td>0.35514</td><td>0.4366393</td><td>-0.391217</td><td>0.027991</td><td>-0.249675</td><td>0.353543</td><td>0.3410477</td><td>-0.949334</td><td>-0.7809</td><td>0.774585</td><td>1.0947311</td><td>-0.991145</td><td>-0.792452</td><td>0.367533</td><td>-0.678795</td><td>-0.127239</td><td>-0.76443</td><td>0.149948</td><td>-0.420024</td><td>-0.379714</td><td>-0.181872</td><td>0.907638</td><td>-0.098079</td><td>-0.176608</td><td>0.547074</td><td>-1.114356</td><td>0.3477908</td><td>-0.842741</td><td>-0.65057</td><td>-0.994646</td><td>0.884913</td><td>-0.347504</td><td>-0.503691</td><td>1.0998033</td><td>-0.660756</td><td>0.133069</td><td>-0.032948</td><td>-0.500855</td><td>0.126327</td><td>1.2253042</td><td>0.7873678</td><td>1.0884811</td><td>0.5315797</td><td>-0.027079</td><td>1.3340153</td></tr><tr><td>&quot;892b8902933fff…</td><td>0.203671</td><td>0.367651</td><td>-0.376709</td><td>0.099493</td><td>0.702472</td><td>0.3698665</td><td>0.044393</td><td>0.7854918</td><td>0.056486</td><td>-0.597537</td><td>-0.025054</td><td>-0.060954</td><td>0.285768</td><td>1.1479238</td><td>0.6134067</td><td>-0.591018</td><td>-0.051933</td><td>-0.605048</td><td>0.5211489</td><td>-0.096443</td><td>0.277837</td><td>-1.16566</td><td>-0.046693</td><td>-0.212415</td><td>0.5041226</td><td>0.6915848</td><td>-1.851008</td><td>-1.290958</td><td>0.539579</td><td>1.2791778</td><td>-0.666768</td><td>-1.050108</td><td>0.448775</td><td>-1.117971</td><td>-0.564621</td><td>-0.816824</td><td>0.267858</td><td>-0.355061</td><td>0.128774</td><td>0.362366</td><td>0.970243</td><td>-0.243836</td><td>-0.077176</td><td>0.469162</td><td>-1.286911</td><td>0.445968</td><td>-1.046957</td><td>0.206821</td><td>-1.226297</td><td>0.955703</td><td>-0.531986</td><td>-1.036628</td><td>1.5125182</td><td>-0.558477</td><td>0.5288396</td><td>-0.112138</td><td>0.011761</td><td>0.385726</td><td>1.1588398</td><td>0.261717</td><td>1.1475425</td><td>0.5584095</td><td>0.083415</td><td>1.2662263</td></tr><tr><td>&hellip;</td><td>&hellip;</td><td>&hellip;</td><td>&hellip;</td><td>&hellip;</td><td>&hellip;</td><td>&hellip;</td><td>&hellip;</td><td>&hellip;</td><td>&hellip;</td><td>&hellip;</td><td>&hellip;</td><td>&hellip;</td><td>&hellip;</td><td>&hellip;</td><td>&hellip;</td><td>&hellip;</td><td>&hellip;</td><td>&hellip;</td><td>&hellip;</td><td>&hellip;</td><td>&hellip;</td><td>&hellip;</td><td>&hellip;</td><td>&hellip;</td><td>&hellip;</td><td>&hellip;</td><td>&hellip;</td><td>&hellip;</td><td>&hellip;</td><td>&hellip;</td><td>&hellip;</td><td>&hellip;</td><td>&hellip;</td><td>&hellip;</td><td>&hellip;</td><td>&hellip;</td><td>&hellip;</td><td>&hellip;</td><td>&hellip;</td><td>&hellip;</td><td>&hellip;</td><td>&hellip;</td><td>&hellip;</td><td>&hellip;</td><td>&hellip;</td><td>&hellip;</td><td>&hellip;</td><td>&hellip;</td><td>&hellip;</td><td>&hellip;</td><td>&hellip;</td><td>&hellip;</td><td>&hellip;</td><td>&hellip;</td><td>&hellip;</td><td>&hellip;</td><td>&hellip;</td><td>&hellip;</td><td>&hellip;</td><td>&hellip;</td><td>&hellip;</td><td>&hellip;</td><td>&hellip;</td><td>&hellip;</td></tr><tr><td>&quot;892b8a299affff…</td><td>1.058022</td><td>0.797799</td><td>1.7198048</td><td>-0.08087</td><td>-1.108777</td><td>0.546034</td><td>-0.130234</td><td>1.2542851</td><td>-0.695265</td><td>-1.164078</td><td>-0.003988</td><td>-1.176117</td><td>0.6460053</td><td>0.2947892</td><td>1.2178795</td><td>-0.143709</td><td>-1.162909</td><td>-0.189918</td><td>2.4345553</td><td>1.0903652</td><td>0.7704502</td><td>-1.032139</td><td>1.5032207</td><td>0.177217</td><td>1.2289754</td><td>-0.174128</td><td>-1.446835</td><td>-0.913618</td><td>1.9318874</td><td>0.96198</td><td>-0.256452</td><td>0.119853</td><td>0.6207623</td><td>-2.077888</td><td>-0.22837</td><td>-2.504793</td><td>-1.114247</td><td>-2.34905</td><td>-1.627339</td><td>2.968772</td><td>1.8860763</td><td>-1.850146</td><td>-0.28698</td><td>-0.542488</td><td>-2.04509</td><td>0.656715</td><td>-1.219998</td><td>0.7636397</td><td>-0.033298</td><td>0.657471</td><td>-0.826994</td><td>-0.370272</td><td>0.319207</td><td>-2.984365</td><td>0.4431151</td><td>-0.142687</td><td>0.099384</td><td>-0.174163</td><td>1.0868078</td><td>1.451909</td><td>0.7831583</td><td>0.572481</td><td>-1.065224</td><td>0.1066829</td></tr><tr><td>&quot;892b8a2b33bfff…</td><td>-0.51939</td><td>1.5370425</td><td>0.2698698</td><td>-0.462277</td><td>0.5150126</td><td>-0.845652</td><td>-0.177766</td><td>-1.099077</td><td>-0.519972</td><td>0.4695824</td><td>1.1081321</td><td>-0.484858</td><td>0.440587</td><td>0.056485</td><td>0.016684</td><td>0.497982</td><td>-0.194229</td><td>-0.465794</td><td>0.613031</td><td>-1.410259</td><td>0.89185</td><td>-0.441918</td><td>-0.468099</td><td>-1.039198</td><td>0.1901381</td><td>-0.911526</td><td>0.6693841</td><td>-0.995134</td><td>0.234778</td><td>0.933615</td><td>-1.037339</td><td>0.711505</td><td>-0.51296</td><td>0.218985</td><td>-2.132569</td><td>0.456798</td><td>-0.483371</td><td>1.1295228</td><td>0.271502</td><td>0.332412</td><td>-0.678146</td><td>-0.447727</td><td>0.057274</td><td>-0.201707</td><td>0.000116</td><td>-0.294111</td><td>-0.801133</td><td>0.381257</td><td>-0.517493</td><td>-0.296467</td><td>-0.611859</td><td>-0.844371</td><td>1.823159</td><td>-1.799894</td><td>0.7592601</td><td>0.8833866</td><td>0.40838</td><td>-0.450441</td><td>0.815066</td><td>0.220413</td><td>0.3263427</td><td>-0.003459</td><td>-0.699289</td><td>0.515769</td></tr><tr><td>&quot;892a16158bbfff…</td><td>-0.784577</td><td>0.053473</td><td>-0.878297</td><td>0.25113</td><td>0.6728089</td><td>0.736272</td><td>-0.124556</td><td>1.0232401</td><td>0.6089525</td><td>-0.824972</td><td>-0.377943</td><td>0.540166</td><td>0.303173</td><td>0.7637807</td><td>0.688531</td><td>-0.578972</td><td>0.094866</td><td>-1.594885</td><td>0.6509325</td><td>0.5128913</td><td>0.106396</td><td>-2.584849</td><td>-0.616451</td><td>0.524728</td><td>1.127943</td><td>0.6298409</td><td>-2.579577</td><td>-1.534195</td><td>1.1462616</td><td>2.3135998</td><td>0.217866</td><td>-1.417655</td><td>0.4304558</td><td>-0.800563</td><td>-1.456106</td><td>-1.033855</td><td>0.828797</td><td>-0.496928</td><td>0.7025403</td><td>1.0699017</td><td>1.1093194</td><td>-0.340765</td><td>-0.201319</td><td>-0.056407</td><td>-2.163415</td><td>-0.011489</td><td>-1.993248</td><td>1.0985881</td><td>-0.844971</td><td>1.3432821</td><td>-0.524627</td><td>-1.872856</td><td>2.160504</td><td>-0.222231</td><td>0.5210041</td><td>0.110102</td><td>-0.072736</td><td>1.1351824</td><td>1.0201477</td><td>0.032203</td><td>1.5351156</td><td>0.895231</td><td>0.83688</td><td>1.4384865</td></tr><tr><td>&quot;892aa4a2e77fff…</td><td>-0.784577</td><td>0.053473</td><td>-0.878297</td><td>0.25113</td><td>0.6728089</td><td>0.736272</td><td>-0.124556</td><td>1.0232401</td><td>0.6089525</td><td>-0.824972</td><td>-0.377943</td><td>0.540166</td><td>0.303173</td><td>0.7637807</td><td>0.688531</td><td>-0.578972</td><td>0.094866</td><td>-1.594885</td><td>0.6509325</td><td>0.5128913</td><td>0.106396</td><td>-2.584849</td><td>-0.616451</td><td>0.524728</td><td>1.127943</td><td>0.6298409</td><td>-2.579577</td><td>-1.534195</td><td>1.1462616</td><td>2.3135998</td><td>0.217866</td><td>-1.417655</td><td>0.4304558</td><td>-0.800563</td><td>-1.456106</td><td>-1.033855</td><td>0.828797</td><td>-0.496928</td><td>0.7025403</td><td>1.0699017</td><td>1.1093194</td><td>-0.340765</td><td>-0.201319</td><td>-0.056407</td><td>-2.163415</td><td>-0.011489</td><td>-1.993248</td><td>1.0985881</td><td>-0.844971</td><td>1.3432821</td><td>-0.524627</td><td>-1.872856</td><td>2.160504</td><td>-0.222231</td><td>0.5210041</td><td>0.110102</td><td>-0.072736</td><td>1.1351824</td><td>1.0201477</td><td>0.032203</td><td>1.5351156</td><td>0.895231</td><td>0.83688</td><td>1.4384865</td></tr><tr><td>&quot;892b89d2373fff…</td><td>-0.784577</td><td>0.053473</td><td>-0.878297</td><td>0.25113</td><td>0.6728089</td><td>0.736272</td><td>-0.124556</td><td>1.0232401</td><td>0.6089525</td><td>-0.824972</td><td>-0.377943</td><td>0.540166</td><td>0.303173</td><td>0.7637807</td><td>0.688531</td><td>-0.578972</td><td>0.094866</td><td>-1.594885</td><td>0.6509325</td><td>0.5128913</td><td>0.106396</td><td>-2.584849</td><td>-0.616451</td><td>0.524728</td><td>1.127943</td><td>0.6298409</td><td>-2.579577</td><td>-1.534195</td><td>1.1462616</td><td>2.3135998</td><td>0.217866</td><td>-1.417655</td><td>0.4304558</td><td>-0.800563</td><td>-1.456106</td><td>-1.033855</td><td>0.828797</td><td>-0.496928</td><td>0.7025403</td><td>1.0699017</td><td>1.1093194</td><td>-0.340765</td><td>-0.201319</td><td>-0.056407</td><td>-2.163415</td><td>-0.011489</td><td>-1.993248</td><td>1.0985881</td><td>-0.844971</td><td>1.3432821</td><td>-0.524627</td><td>-1.872856</td><td>2.160504</td><td>-0.222231</td><td>0.5210041</td><td>0.110102</td><td>-0.072736</td><td>1.1351824</td><td>1.0201477</td><td>0.032203</td><td>1.5351156</td><td>0.895231</td><td>0.83688</td><td>1.4384865</td></tr></tbody></table></div>"
      ],
      "text/plain": [
       "shape: (61_594, 65)\n",
       "┌───────────┬───────────┬───────────┬───────────┬───┬───────────┬───────────┬───────────┬──────────┐\n",
       "│ region_id ┆ 0         ┆ 1         ┆ 2         ┆ … ┆ 60        ┆ 61        ┆ 62        ┆ 63       │\n",
       "│ ---       ┆ ---       ┆ ---       ┆ ---       ┆   ┆ ---       ┆ ---       ┆ ---       ┆ ---      │\n",
       "│ str       ┆ f64       ┆ f64       ┆ f64       ┆   ┆ f64       ┆ f64       ┆ f64       ┆ f64      │\n",
       "╞═══════════╪═══════════╪═══════════╪═══════════╪═══╪═══════════╪═══════════╪═══════════╪══════════╡\n",
       "│ 892aa6c9c ┆ -0.128    ┆ 0.3003197 ┆ -0.688874 ┆ … ┆ 0.246762  ┆ -0.284756 ┆ -0.151049 ┆ 0.138649 │\n",
       "│ cfffff    ┆           ┆           ┆           ┆   ┆           ┆           ┆           ┆          │\n",
       "│ 892b89029 ┆ 0.5188687 ┆ 0.135584  ┆ -0.046896 ┆ … ┆ 0.964356  ┆ 0.725145  ┆ -0.154589 ┆ 1.048687 │\n",
       "│ 07ffff    ┆           ┆           ┆           ┆   ┆           ┆           ┆           ┆ 8        │\n",
       "│ 892b89029 ┆ -0.341131 ┆ 0.1870089 ┆ -0.563597 ┆ … ┆ 1.1787078 ┆ 0.5352678 ┆ 0.1763524 ┆ 1.059483 │\n",
       "│ 2fffff    ┆           ┆           ┆           ┆   ┆           ┆           ┆           ┆ 6        │\n",
       "│ 892b89029 ┆ 0.421253  ┆ 0.2792997 ┆ 0.322675  ┆ … ┆ 1.0884811 ┆ 0.5315797 ┆ -0.027079 ┆ 1.334015 │\n",
       "│ 23ffff    ┆           ┆           ┆           ┆   ┆           ┆           ┆           ┆ 3        │\n",
       "│ 892b89029 ┆ 0.203671  ┆ 0.367651  ┆ -0.376709 ┆ … ┆ 1.1475425 ┆ 0.5584095 ┆ 0.083415  ┆ 1.266226 │\n",
       "│ 33ffff    ┆           ┆           ┆           ┆   ┆           ┆           ┆           ┆ 3        │\n",
       "│ …         ┆ …         ┆ …         ┆ …         ┆ … ┆ …         ┆ …         ┆ …         ┆ …        │\n",
       "│ 892b8a299 ┆ 1.058022  ┆ 0.797799  ┆ 1.7198048 ┆ … ┆ 0.7831583 ┆ 0.572481  ┆ -1.065224 ┆ 0.106682 │\n",
       "│ afffff    ┆           ┆           ┆           ┆   ┆           ┆           ┆           ┆ 9        │\n",
       "│ 892b8a2b3 ┆ -0.51939  ┆ 1.5370425 ┆ 0.2698698 ┆ … ┆ 0.3263427 ┆ -0.003459 ┆ -0.699289 ┆ 0.515769 │\n",
       "│ 3bffff    ┆           ┆           ┆           ┆   ┆           ┆           ┆           ┆          │\n",
       "│ 892a16158 ┆ -0.784577 ┆ 0.053473  ┆ -0.878297 ┆ … ┆ 1.5351156 ┆ 0.895231  ┆ 0.83688   ┆ 1.438486 │\n",
       "│ bbffff    ┆           ┆           ┆           ┆   ┆           ┆           ┆           ┆ 5        │\n",
       "│ 892aa4a2e ┆ -0.784577 ┆ 0.053473  ┆ -0.878297 ┆ … ┆ 1.5351156 ┆ 0.895231  ┆ 0.83688   ┆ 1.438486 │\n",
       "│ 77ffff    ┆           ┆           ┆           ┆   ┆           ┆           ┆           ┆ 5        │\n",
       "│ 892b89d23 ┆ -0.784577 ┆ 0.053473  ┆ -0.878297 ┆ … ┆ 1.5351156 ┆ 0.895231  ┆ 0.83688   ┆ 1.438486 │\n",
       "│ 73ffff    ┆           ┆           ┆           ┆   ┆           ┆           ┆           ┆ 5        │\n",
       "└───────────┴───────────┴───────────┴───────────┴───┴───────────┴───────────┴───────────┴──────────┘"
      ]
     },
     "execution_count": 3,
     "metadata": {},
     "output_type": "execute_result"
    }
   ],
   "source": [
    "pl.read_csv(\n",
    "    '/home/victor-hugo/Documentos/HAVANA-2.0/data/intermediate/region_embeddings/poi-encoder/New York/64_dimension_9_resolution.csv'\n",
    ")"
   ]
  }
 ],
 "metadata": {
  "kernelspec": {
   "display_name": ".venv",
   "language": "python",
   "name": "python3"
  },
  "language_info": {
   "codemirror_mode": {
    "name": "ipython",
    "version": 3
   },
   "file_extension": ".py",
   "mimetype": "text/x-python",
   "name": "python",
   "nbconvert_exporter": "python",
   "pygments_lexer": "ipython3",
   "version": "3.10.14"
  }
 },
 "nbformat": 4,
 "nbformat_minor": 2
}
