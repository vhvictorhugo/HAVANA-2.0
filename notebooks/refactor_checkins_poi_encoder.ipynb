{
 "cells": [
  {
   "cell_type": "code",
   "execution_count": 13,
   "metadata": {},
   "outputs": [],
   "source": [
    "import h3\n",
    "import polars as pl\n",
    "import pandas as pd"
   ]
  },
  {
   "cell_type": "code",
   "execution_count": 14,
   "metadata": {},
   "outputs": [],
   "source": [
    "state = 'Texas'\n",
    "\n",
    "checkins_df = pl.read_csv(\n",
    "    f'/home/victor-hugo/Documentos/HAVANA-2.0/data/intermediate/checkins/{state}.csv'\n",
    ")\n",
    "\n",
    "poi_encoder_df = pl.read_parquet(\n",
    "    f'/home/victor-hugo/Documentos/HAVANA-2.0/data/intermediate/region_embeddings/poi-encoder/{state}/64_dimension_9_resolution.parquet',\n",
    "    use_pyarrow=True\n",
    ")"
   ]
  },
  {
   "cell_type": "code",
   "execution_count": 15,
   "metadata": {},
   "outputs": [],
   "source": [
    "def generate_h3_cell(row: pl.Series) -> str:\n",
    "    \"\"\"\n",
    "    Generate H3 cell from latitude and longitude\n",
    "\n",
    "    Args:\n",
    "        row (pd.Series): Row of a DataFrame\n",
    "\n",
    "    Returns:\n",
    "        str: H3 cell\n",
    "    \"\"\"\n",
    "    lat = row[\"latitude\"]\n",
    "    lon = row[\"longitude\"]\n",
    "\n",
    "    h3_cell = h3.latlng_to_cell(lat, lon, 9)\n",
    "    return h3_cell"
   ]
  },
  {
   "cell_type": "code",
   "execution_count": 16,
   "metadata": {},
   "outputs": [],
   "source": [
    "checkins_df = (\n",
    "    checkins_df\n",
    "    .with_columns(\n",
    "        region_id=(\n",
    "            pl.struct([\"latitude\", \"longitude\"])\n",
    "            .map_elements(\n",
    "                generate_h3_cell, \n",
    "                return_dtype=pl.String\n",
    "            )\n",
    "        )\n",
    "    )\n",
    ")\n",
    "\n",
    "(\n",
    "    checkins_df\n",
    "    .join(\n",
    "        checkins_df\n",
    "        .join(\n",
    "            poi_encoder_df,\n",
    "            on=\"region_id\",\n",
    "            how=\"anti\"\n",
    "        ),\n",
    "        on=['userid', 'placeid'],\n",
    "        how=\"anti\"\n",
    "    )\n",
    "    .drop('region_id')\n",
    "    .write_csv(f'/home/victor-hugo/Documentos/HAVANA-2.0/data/intermediate/checkins/{state}.csv')\n",
    ")\n",
    "\n",
    "checkins_df = pd.read_csv(\n",
    "    f'/home/victor-hugo/Documentos/HAVANA-2.0/data/intermediate/checkins/{state}.csv'\n",
    ")"
   ]
  },
  {
   "cell_type": "code",
   "execution_count": 17,
   "metadata": {},
   "outputs": [],
   "source": [
    "places_quantity_per_user = (\n",
    "    checkins_df.groupby(\"userid\")\n",
    "    .agg({\"placeid\": \"nunique\"})\n",
    "    .sort_values(by=[\"placeid\"], ascending=False)\n",
    "    .reset_index()\n",
    ")\n",
    "\n",
    "places_quantity_per_user = places_quantity_per_user[places_quantity_per_user[\"placeid\"] >= 2]\n",
    "\n",
    "valid_users = places_quantity_per_user[\"userid\"].unique()\n",
    "\n",
    "checkins_df = checkins_df[checkins_df[\"userid\"].isin(valid_users)]\n",
    "\n",
    "checkins_df.to_csv(\n",
    "    f'/home/victor-hugo/Documentos/HAVANA-2.0/data/intermediate/checkins/{state}.csv', \n",
    "    index=False\n",
    ")"
   ]
  }
 ],
 "metadata": {
  "kernelspec": {
   "display_name": ".venv",
   "language": "python",
   "name": "python3"
  },
  "language_info": {
   "codemirror_mode": {
    "name": "ipython",
    "version": 3
   },
   "file_extension": ".py",
   "mimetype": "text/x-python",
   "name": "python",
   "nbconvert_exporter": "python",
   "pygments_lexer": "ipython3",
   "version": "3.10.14"
  }
 },
 "nbformat": 4,
 "nbformat_minor": 2
}
