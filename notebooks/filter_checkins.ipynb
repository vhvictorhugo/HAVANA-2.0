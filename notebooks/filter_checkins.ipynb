{
 "cells": [
  {
   "cell_type": "code",
   "execution_count": 1,
   "metadata": {},
   "outputs": [],
   "source": [
    "import pandas as pd\n",
    "from sklearn.utils import resample\n",
    "import polars as pl"
   ]
  },
  {
   "cell_type": "code",
   "execution_count": 2,
   "metadata": {},
   "outputs": [],
   "source": [
    "def filter_checkins(checkins_df: pd.DataFrame) -> pd.DataFrame:\n",
    "    \"\"\"\n",
    "    Filter checkins data, removing users with less than 2 locals visited\n",
    "\n",
    "    Args:\n",
    "        checkins_df (pd.DataFrame): Checkins data\n",
    "\n",
    "    Returns:\n",
    "        pd.DataFrame: Filtered checkins data\n",
    "    \"\"\"\n",
    "    places_quantity_per_user = (\n",
    "        checkins_df.groupby(\"userid\")\n",
    "        .agg({\"placeid\": \"nunique\"})\n",
    "        .sort_values(by=[\"placeid\"], ascending=False)\n",
    "        .reset_index()\n",
    "    )\n",
    "\n",
    "    places_quantity_per_user = places_quantity_per_user[places_quantity_per_user[\"placeid\"] >= 4]\n",
    "\n",
    "    valid_users = places_quantity_per_user[\"userid\"].unique()\n",
    "\n",
    "    checkins_df = checkins_df[checkins_df[\"userid\"].isin(valid_users)]\n",
    "\n",
    "    return checkins_df"
   ]
  },
  {
   "cell_type": "code",
   "execution_count": 3,
   "metadata": {},
   "outputs": [],
   "source": [
    "def get_statistics(df_path: str, df_name: str) -> None:\n",
    "    df = pl.read_csv(df_path).unique()\n",
    "    \n",
    "    n_unique_users = (\n",
    "        df\n",
    "        .select(\"userid\")\n",
    "        .unique()\n",
    "        .shape[0]\n",
    "    )\n",
    "    median_checkins_per_user = (\n",
    "        df\n",
    "        .group_by(\"userid\")\n",
    "        .agg(pl.len().alias(\"qt_checkins\"))\n",
    "        .select(\"qt_checkins\")\n",
    "        .median()\n",
    "        .item()\n",
    "    )\n",
    "    number_pois = (\n",
    "        df\n",
    "        .select(\"placeid\")\n",
    "        .unique()\n",
    "        .shape[0]\n",
    "    )\n",
    "    max_checkins_per_user = (\n",
    "        df\n",
    "        .group_by(\"userid\")\n",
    "        .agg(pl.len().alias(\"qt_checkins\"))\n",
    "        .select(\"qt_checkins\")\n",
    "        .max()\n",
    "        .item()\n",
    "    )\n",
    "    min_checkins_per_user = (\n",
    "        df\n",
    "        .group_by(\"userid\")\n",
    "        .agg(pl.len().alias(\"qt_checkins\"))\n",
    "        .select(\"qt_checkins\")\n",
    "        .min()\n",
    "        .item()\n",
    "    )\n",
    "    median_category_per_user = (\n",
    "        df\n",
    "        .group_by(\"userid\")\n",
    "        .agg(pl.n_unique('category').alias(\"qt_categoria\"))\n",
    "        .select(\"qt_categoria\")\n",
    "        .median()\n",
    "        .item()\n",
    "    )\n",
    "    \n",
    "    print(f\"Statistics for {df_name}\")\n",
    "    print(f\"Number of check-ins: {df.shape[0]}\")\n",
    "    print(f\"Number of unique users: {n_unique_users}\")\n",
    "    print(f\"Number of unique POIs: {number_pois}\")\n",
    "    print(f\"Median number of check-ins per user: {median_checkins_per_user}\")\n",
    "    print(f\"Max number of check-ins per user: {max_checkins_per_user}\")\n",
    "    print(f\"Min number of check-ins per user: {min_checkins_per_user}\")\n",
    "    print(f\"Median number of categories per user: {median_category_per_user}\")"
   ]
  },
  {
   "cell_type": "markdown",
   "metadata": {},
   "source": [
    "# Florida"
   ]
  },
  {
   "cell_type": "code",
   "execution_count": 4,
   "metadata": {},
   "outputs": [],
   "source": [
    "state = \"Florida\"\n",
    "checkins_df = pd.read_csv(\n",
    "    f\"/home/victor-hugo/HAVANA-2.0/data/intermediate/checkins/{state}_complete.csv\"\n",
    ")"
   ]
  },
  {
   "cell_type": "code",
   "execution_count": 5,
   "metadata": {},
   "outputs": [],
   "source": [
    "n_samples = 30000\n",
    "checkins_df_list = []\n",
    "\n",
    "for class_label in checkins_df['category'].unique():\n",
    "    checkins_category = checkins_df[checkins_df['category'] == class_label]\n",
    "    \n",
    "    checkins_resampled = resample(\n",
    "        checkins_category, \n",
    "        replace=False,\n",
    "        n_samples=n_samples,\n",
    "        random_state=42\n",
    "    )\n",
    "    \n",
    "    checkins_df_list.append(checkins_resampled)\n",
    "\n",
    "checkins_df = pd.concat(checkins_df_list)"
   ]
  },
  {
   "cell_type": "code",
   "execution_count": 6,
   "metadata": {},
   "outputs": [],
   "source": [
    "checkins_df = filter_checkins(checkins_df)"
   ]
  },
  {
   "cell_type": "code",
   "execution_count": 7,
   "metadata": {},
   "outputs": [
    {
     "data": {
      "text/plain": [
       "category\n",
       "Shopping         29033\n",
       "Community        28647\n",
       "Outdoors         28216\n",
       "Food             28125\n",
       "Entertainment    28060\n",
       "Nightlife        27988\n",
       "Travel           25075\n",
       "Name: count, dtype: int64"
      ]
     },
     "execution_count": 7,
     "metadata": {},
     "output_type": "execute_result"
    }
   ],
   "source": [
    "checkins_df['category'].value_counts()"
   ]
  },
  {
   "cell_type": "code",
   "execution_count": 8,
   "metadata": {},
   "outputs": [],
   "source": [
    "checkins_df.to_csv(\n",
    "    f\"/home/victor-hugo/HAVANA-2.0/data/intermediate/checkins/{state}.csv\",\n",
    "    index=False\n",
    ")"
   ]
  },
  {
   "cell_type": "code",
   "execution_count": 9,
   "metadata": {},
   "outputs": [
    {
     "name": "stdout",
     "output_type": "stream",
     "text": [
      "Statistics for Florida\n",
      "Number of check-ins: 195092\n",
      "Number of unique users: 6659\n",
      "Number of unique POIs: 39411\n",
      "Median number of check-ins per user: 11.0\n",
      "Max number of check-ins per user: 2843\n",
      "Min number of check-ins per user: 4\n",
      "Median number of categories per user: 4.0\n"
     ]
    }
   ],
   "source": [
    "get_statistics(\n",
    "    df_path=f\"/home/victor-hugo/HAVANA-2.0/data/intermediate/checkins/{state}.csv\",\n",
    "    df_name=state\n",
    ")"
   ]
  },
  {
   "cell_type": "markdown",
   "metadata": {},
   "source": [
    "# Texas"
   ]
  },
  {
   "cell_type": "code",
   "execution_count": 5,
   "metadata": {},
   "outputs": [],
   "source": [
    "state = \"Texas\"\n",
    "checkins_df = pd.read_csv(\n",
    "    f\"/home/victor-hugo/HAVANA-2.0/data/intermediate/checkins/{state}_complete.csv\"\n",
    ")"
   ]
  },
  {
   "cell_type": "code",
   "execution_count": 6,
   "metadata": {},
   "outputs": [
    {
     "data": {
      "text/plain": [
       "category\n",
       "Shopping         28094\n",
       "Outdoors         27842\n",
       "Community        27226\n",
       "Food             26772\n",
       "Entertainment    26319\n",
       "Nightlife        26311\n",
       "Travel           24435\n",
       "Name: count, dtype: int64"
      ]
     },
     "metadata": {},
     "output_type": "display_data"
    }
   ],
   "source": [
    "n_samples = 30000\n",
    "checkins_df_list = []\n",
    "\n",
    "for class_label in checkins_df['category'].unique():\n",
    "    checkins_category = checkins_df[checkins_df['category'] == class_label]\n",
    "    \n",
    "    checkins_resampled = resample(\n",
    "        checkins_category, \n",
    "        replace=False,\n",
    "        n_samples=n_samples,\n",
    "        random_state=42\n",
    "    )\n",
    "    \n",
    "    checkins_df_list.append(checkins_resampled)\n",
    "\n",
    "checkins_df = pd.concat(checkins_df_list)\n",
    "checkins_df = filter_checkins(checkins_df)\n",
    "\n",
    "display(checkins_df['category'].value_counts())"
   ]
  },
  {
   "cell_type": "code",
   "execution_count": 7,
   "metadata": {},
   "outputs": [],
   "source": [
    "checkins_df.to_csv(\n",
    "    f\"/home/victor-hugo/HAVANA-2.0/data/intermediate/checkins/{state}.csv\",\n",
    "    index=False\n",
    ")"
   ]
  },
  {
   "cell_type": "code",
   "execution_count": 8,
   "metadata": {},
   "outputs": [
    {
     "name": "stdout",
     "output_type": "stream",
     "text": [
      "Statistics for Texas\n",
      "Number of check-ins: 186974\n",
      "Number of unique users: 9214\n",
      "Number of unique POIs: 52388\n",
      "Median number of check-ins per user: 9.0\n",
      "Max number of check-ins per user: 2184\n",
      "Min number of check-ins per user: 4\n",
      "Median number of categories per user: 4.0\n"
     ]
    }
   ],
   "source": [
    "get_statistics(\n",
    "    df_path=f\"/home/victor-hugo/HAVANA-2.0/data/intermediate/checkins/{state}.csv\",\n",
    "    df_name=state\n",
    ")"
   ]
  },
  {
   "cell_type": "markdown",
   "metadata": {},
   "source": [
    "# California"
   ]
  },
  {
   "cell_type": "code",
   "execution_count": 10,
   "metadata": {},
   "outputs": [],
   "source": [
    "state = \"California\"\n",
    "checkins_df = pd.read_csv(\n",
    "    f\"/home/victor-hugo/HAVANA-2.0/data/intermediate/checkins/{state}_complete.csv\"\n",
    ")"
   ]
  },
  {
   "cell_type": "code",
   "execution_count": 11,
   "metadata": {},
   "outputs": [],
   "source": [
    "n_samples = 30000\n",
    "checkins_df_list = []\n",
    "\n",
    "for class_label in checkins_df['category'].unique():\n",
    "    checkins_category = checkins_df[checkins_df['category'] == class_label]\n",
    "    \n",
    "    checkins_resampled = resample(\n",
    "        checkins_category, \n",
    "        replace=False,\n",
    "        n_samples=n_samples,\n",
    "        random_state=42\n",
    "    )\n",
    "    \n",
    "    checkins_df_list.append(checkins_resampled)\n",
    "\n",
    "checkins_df = pd.concat(checkins_df_list)"
   ]
  },
  {
   "cell_type": "code",
   "execution_count": 12,
   "metadata": {},
   "outputs": [],
   "source": [
    "checkins_df = filter_checkins(checkins_df)"
   ]
  },
  {
   "cell_type": "code",
   "execution_count": 13,
   "metadata": {},
   "outputs": [
    {
     "data": {
      "text/plain": [
       "category\n",
       "Shopping         28140\n",
       "Community        27355\n",
       "Outdoors         27307\n",
       "Food             26909\n",
       "Nightlife        26735\n",
       "Entertainment    26479\n",
       "Travel           24583\n",
       "Name: count, dtype: int64"
      ]
     },
     "execution_count": 13,
     "metadata": {},
     "output_type": "execute_result"
    }
   ],
   "source": [
    "checkins_df['category'].value_counts()"
   ]
  },
  {
   "cell_type": "code",
   "execution_count": 14,
   "metadata": {},
   "outputs": [],
   "source": [
    "checkins_df.to_csv(\n",
    "    f\"/home/victor-hugo/HAVANA-2.0/data/intermediate/checkins/{state}.csv\",\n",
    "    index=False\n",
    ")"
   ]
  },
  {
   "cell_type": "code",
   "execution_count": 15,
   "metadata": {},
   "outputs": [
    {
     "name": "stdout",
     "output_type": "stream",
     "text": [
      "Statistics for California\n",
      "Number of check-ins: 187500\n",
      "Number of unique users: 8755\n",
      "Number of unique POIs: 58087\n",
      "Median number of check-ins per user: 10.0\n",
      "Max number of check-ins per user: 1310\n",
      "Min number of check-ins per user: 4\n",
      "Median number of categories per user: 4.0\n"
     ]
    }
   ],
   "source": [
    "get_statistics(\n",
    "    df_path=f\"/home/victor-hugo/HAVANA-2.0/data/intermediate/checkins/{state}.csv\",\n",
    "    df_name=state\n",
    ")"
   ]
  },
  {
   "cell_type": "code",
   "execution_count": null,
   "metadata": {},
   "outputs": [],
   "source": []
  }
 ],
 "metadata": {
  "kernelspec": {
   "display_name": ".venv",
   "language": "python",
   "name": "python3"
  },
  "language_info": {
   "codemirror_mode": {
    "name": "ipython",
    "version": 3
   },
   "file_extension": ".py",
   "mimetype": "text/x-python",
   "name": "python",
   "nbconvert_exporter": "python",
   "pygments_lexer": "ipython3",
   "version": "3.10.14"
  }
 },
 "nbformat": 4,
 "nbformat_minor": 2
}
